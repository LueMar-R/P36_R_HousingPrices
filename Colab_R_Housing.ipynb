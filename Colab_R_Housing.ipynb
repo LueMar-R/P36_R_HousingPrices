{
  "nbformat": 4,
  "nbformat_minor": 0,
  "metadata": {
    "colab": {
      "name": "Colab_R_Housing.ipynb",
      "provenance": [],
      "collapsed_sections": [],
      "include_colab_link": true
    },
    "kernelspec": {
      "name": "python3",
      "display_name": "Python 3"
    },
    "language_info": {
      "name": "python"
    }
  },
  "cells": [
    {
      "cell_type": "markdown",
      "metadata": {
        "id": "view-in-github",
        "colab_type": "text"
      },
      "source": [
        "<a href=\"https://colab.research.google.com/github/LueMar-R/P36_R_HousingPrices/blob/main/Colab_R_Housing.ipynb\" target=\"_parent\"><img src=\"https://colab.research.google.com/assets/colab-badge.svg\" alt=\"Open In Colab\"/></a>"
      ]
    },
    {
      "cell_type": "markdown",
      "metadata": {
        "id": "c53tnUx-5ycR"
      },
      "source": [
        "# Housing Price Prediction with R"
      ]
    },
    {
      "cell_type": "markdown",
      "metadata": {
        "id": "p5WxpH_M6Qrw"
      },
      "source": [
        "## Environment setting"
      ]
    },
    {
      "cell_type": "code",
      "metadata": {
        "id": "Gs2TcFNkVoK1"
      },
      "source": [
        "%load_ext rpy2.ipython"
      ],
      "execution_count": 1,
      "outputs": []
    },
    {
      "cell_type": "code",
      "metadata": {
        "id": "qBKKbtWjnFNH"
      },
      "source": [
        "%%R\n",
        "install.packages(\"shiny\")"
      ],
      "execution_count": 1,
      "outputs": []
    },
    {
      "cell_type": "code",
      "metadata": {
        "id": "u9Ts9w2wBBuK"
      },
      "source": [
        "%%R\n",
        "install.packages('randomForest')\n",
        "install.packages('caret')\n",
        "install.packages('corrplot')\n",
        "install.packages('MLmetrics')"
      ],
      "execution_count": 1,
      "outputs": []
    },
    {
      "cell_type": "code",
      "metadata": {
        "id": "yqhO93831Y2A"
      },
      "source": [
        "%%R\n",
        "library(tidyverse) # utility functions\n",
        "library(rpart) # for regression trees\n",
        "library(modelr) # add predictions to a data frame\n",
        "library(randomForest) # for random Forests\n",
        "library(shiny) # Vizualisation\n",
        "library(corrplot) # for correlation matrix\n",
        "library(caret) # for metrics"
      ],
      "execution_count": 1,
      "outputs": []
    },
    {
      "cell_type": "markdown",
      "metadata": {
        "id": "xkOl0c5g7MJF"
      },
      "source": [
        "## Data Preprocessing"
      ]
    },
    {
      "cell_type": "markdown",
      "metadata": {
        "id": "FaNaL4qy6XkF"
      },
      "source": [
        "#### Data loading and analysis"
      ]
    },
    {
      "cell_type": "code",
      "metadata": {
        "id": "h5-WuYUz22k1",
        "colab": {
          "base_uri": "https://localhost:8080/"
        },
        "outputId": "7bbe2a51-7763-4d49-f4fb-6ea7c8611694"
      },
      "source": [
        "%%R\n",
        "df <- read_csv(\"/content/sample_data/california_housing_train.csv\")\n",
        "summary(df)"
      ],
      "execution_count": 5,
      "outputs": [
        {
          "output_type": "stream",
          "text": [
            "\n",
            "── Column specification ────────────────────────────────────────────────────────\n",
            "cols(\n",
            "  longitude = col_double(),\n",
            "  latitude = col_double(),\n",
            "  housing_median_age = col_double(),\n",
            "  total_rooms = col_double(),\n",
            "  total_bedrooms = col_double(),\n",
            "  population = col_double(),\n",
            "  households = col_double(),\n",
            "  median_income = col_double(),\n",
            "  median_house_value = col_double()\n",
            ")\n",
            "\n",
            "   longitude         latitude     housing_median_age  total_rooms   \n",
            " Min.   :-124.3   Min.   :32.54   Min.   : 1.00      Min.   :    2  \n",
            " 1st Qu.:-121.8   1st Qu.:33.93   1st Qu.:18.00      1st Qu.: 1462  \n",
            " Median :-118.5   Median :34.25   Median :29.00      Median : 2127  \n",
            " Mean   :-119.6   Mean   :35.63   Mean   :28.59      Mean   : 2644  \n",
            " 3rd Qu.:-118.0   3rd Qu.:37.72   3rd Qu.:37.00      3rd Qu.: 3151  \n",
            " Max.   :-114.3   Max.   :41.95   Max.   :52.00      Max.   :37937  \n",
            " total_bedrooms     population      households     median_income    \n",
            " Min.   :   1.0   Min.   :    3   Min.   :   1.0   Min.   : 0.4999  \n",
            " 1st Qu.: 297.0   1st Qu.:  790   1st Qu.: 282.0   1st Qu.: 2.5664  \n",
            " Median : 434.0   Median : 1167   Median : 409.0   Median : 3.5446  \n",
            " Mean   : 539.4   Mean   : 1430   Mean   : 501.2   Mean   : 3.8836  \n",
            " 3rd Qu.: 648.2   3rd Qu.: 1721   3rd Qu.: 605.2   3rd Qu.: 4.7670  \n",
            " Max.   :6445.0   Max.   :35682   Max.   :6082.0   Max.   :15.0001  \n",
            " median_house_value\n",
            " Min.   : 14999    \n",
            " 1st Qu.:119400    \n",
            " Median :180400    \n",
            " Mean   :207301    \n",
            " 3rd Qu.:265000    \n",
            " Max.   :500001    \n"
          ],
          "name": "stdout"
        }
      ]
    },
    {
      "cell_type": "code",
      "metadata": {
        "id": "QZv4tZCp8DTO",
        "colab": {
          "base_uri": "https://localhost:8080/",
          "height": 497
        },
        "outputId": "76e9577e-05d3-45ee-e7cb-70c4a5ceb9a7"
      },
      "source": [
        "%%R\n",
        "# pairplot\n",
        "pairs(df)"
      ],
      "execution_count": 6,
      "outputs": [
        {
          "output_type": "display_data",
          "data": {
            "image/png": "[encoded data removed]"
          },
          "metadata": {
            "tags": []
          }
        }
      ]
    },
    {
      "cell_type": "code",
      "metadata": {
        "id": "fYTfvKwC8e7z",
        "colab": {
          "base_uri": "https://localhost:8080/"
        },
        "outputId": "45985f15-8961-43cb-f7e0-fe35074c3444"
      },
      "source": [
        "%%R\n",
        "# correlation matrix \n",
        "cor(df)"
      ],
      "execution_count": 7,
      "outputs": [
        {
          "output_type": "stream",
          "text": [
            "                     longitude    latitude housing_median_age total_rooms\n",
            "longitude           1.00000000 -0.92520828         -0.1142503  0.04701044\n",
            "latitude           -0.92520828  1.00000000          0.0164539 -0.03877257\n",
            "housing_median_age -0.11425031  0.01645390          1.0000000 -0.36098417\n",
            "total_rooms         0.04701044 -0.03877257         -0.3609842  1.00000000\n",
            "total_bedrooms      0.07180196 -0.06937292         -0.3204341  0.92840299\n",
            "population          0.10167426 -0.11126136         -0.2958898  0.86017034\n",
            "households          0.05962770 -0.07490230         -0.3027542  0.91901830\n",
            "median_income      -0.01548496 -0.08030301         -0.1159316  0.19538281\n",
            "median_house_value -0.04498170 -0.14491672          0.1067577  0.13099147\n",
            "                   total_bedrooms    population   households median_income\n",
            "longitude              0.07180196  0.1016742646  0.059627704 -0.0154849614\n",
            "latitude              -0.06937292 -0.1112613615 -0.074902297 -0.0803030138\n",
            "housing_median_age    -0.32043408 -0.2958898054 -0.302754191 -0.1159316246\n",
            "total_rooms            0.92840299  0.8601703408  0.919018298  0.1953828074\n",
            "total_bedrooms         1.00000000  0.8811685744  0.980920092 -0.0134946823\n",
            "population             0.88116857  1.0000000000  0.909246530 -0.0006376291\n",
            "households             0.98092009  0.9092465299  1.000000000  0.0076437162\n",
            "median_income         -0.01349468 -0.0006376291  0.007643716  1.0000000000\n",
            "median_house_value     0.04578305 -0.0278500611  0.061030634  0.6918706038\n",
            "                   median_house_value\n",
            "longitude                 -0.04498170\n",
            "latitude                  -0.14491672\n",
            "housing_median_age         0.10675771\n",
            "total_rooms                0.13099147\n",
            "total_bedrooms             0.04578305\n",
            "population                -0.02785006\n",
            "households                 0.06103063\n",
            "median_income              0.69187060\n",
            "median_house_value         1.00000000\n"
          ],
          "name": "stdout"
        }
      ]
    },
    {
      "cell_type": "code",
      "metadata": {
        "id": "N5bvciaMEArX",
        "colab": {
          "base_uri": "https://localhost:8080/",
          "height": 497
        },
        "outputId": "5b7efacd-3149-40a1-905a-40ab5077ee42"
      },
      "source": [
        "%%R\n",
        "# correlation matrix with corrplot library\n",
        "corrplot(cor(df), method = 'number')"
      ],
      "execution_count": 8,
      "outputs": [
        {
          "output_type": "display_data",
          "data": {
            "image/png": "[encoded data removed]"
          },
          "metadata": {
            "tags": []
          }
        }
      ]
    },
    {
      "cell_type": "markdown",
      "metadata": {
        "id": "rnqnccBT6m3K"
      },
      "source": [
        "#### Preprocessing"
      ]
    },
    {
      "cell_type": "code",
      "metadata": {
        "id": "hdPI2Mlc3RhA",
        "colab": {
          "base_uri": "https://localhost:8080/"
        },
        "outputId": "3768d3fd-ca45-4831-a267-b3ea79e4e625"
      },
      "source": [
        "%%R\n",
        "#missing data\n",
        "sum(is.na(df)) \n",
        "\n",
        "#df <- na.omit(df)\n",
        "# as there is no NA Values here, we don't need to execute this last command"
      ],
      "execution_count": 9,
      "outputs": [
        {
          "output_type": "stream",
          "text": [
            "[1] 0\n"
          ],
          "name": "stdout"
        }
      ]
    },
    {
      "cell_type": "code",
      "metadata": {
        "id": "vg1v71Cd-01t",
        "colab": {
          "base_uri": "https://localhost:8080/"
        },
        "outputId": "6d8e1da7-4faa-4b72-af5d-0901b6180568"
      },
      "source": [
        "%%R\n",
        "#train test split\n",
        "\n",
        "set.seed(42)\n",
        "df=df[sample(nrow(df)),]\n",
        "select.data= sample (1:nrow(df), 0.7*nrow(df))\n",
        "train.data= df[select.data,]\n",
        "test.data= df[-select.data,]\n",
        "\n",
        "print(\"Number of sample in train and test sets :\")\n",
        "print(nrow(train.data))\n",
        "print(nrow(test.data))"
      ],
      "execution_count": 10,
      "outputs": [
        {
          "output_type": "stream",
          "text": [
            "[1] \"Number of sample in train and test sets :\"\n",
            "[1] 11900\n",
            "[1] 5100\n"
          ],
          "name": "stdout"
        }
      ]
    },
    {
      "cell_type": "markdown",
      "metadata": {
        "id": "VmOTy0UB6yaG"
      },
      "source": [
        "## Training"
      ]
    },
    {
      "cell_type": "markdown",
      "metadata": {
        "id": "-ccTlR6eOy7D"
      },
      "source": [
        "### Decision Tree Regressor"
      ]
    },
    {
      "cell_type": "code",
      "metadata": {
        "id": "IgWhvZyb35cA"
      },
      "source": [
        "%%R\n",
        "#  decision tree\n",
        "fit <- rpart(median_house_value ~ longitude + latitude + housing_median_age + total_rooms +\n",
        "             total_bedrooms + population + households + median_income, data = train.data)"
      ],
      "execution_count": 11,
      "outputs": []
    },
    {
      "cell_type": "code",
      "metadata": {
        "id": "Dvo-jKUn4sue",
        "colab": {
          "base_uri": "https://localhost:8080/",
          "height": 497
        },
        "outputId": "ee24dd02-cd1e-4e2e-badc-a813d7d6ba45"
      },
      "source": [
        "%%R\n",
        "# plot tree \n",
        "plot(fit, uniform=TRUE)\n",
        "\n",
        "text(fit, cex=.9)"
      ],
      "execution_count": 12,
      "outputs": [
        {
          "output_type": "display_data",
          "data": {
            "image/png": "[encoded data removed]"
          },
          "metadata": {
            "tags": []
          }
        }
      ]
    },
    {
      "cell_type": "code",
      "metadata": {
        "id": "MpHdCNnpD4i4",
        "colab": {
          "base_uri": "https://localhost:8080/"
        },
        "outputId": "2ff833de-7f34-46ac-e304-d2638bc5e144"
      },
      "source": [
        "%%R\n",
        "print(\"Predictions of the decision tree for the five first houses :\")\n",
        "print(predict(fit, head(test.data[-9])))\n",
        "\n",
        "print(\"Actual prices\")\n",
        "print(head(test.data$median_house_value))"
      ],
      "execution_count": 13,
      "outputs": [
        {
          "output_type": "stream",
          "text": [
            "[1] \"Predictions of the decision tree for the five first houses :\"\n",
            "        1         2         3         4         5         6 \n",
            " 90532.36 278017.41 153839.21 237252.33 422703.08 308595.10 \n",
            "[1] \"Actual prices\"\n",
            "[1]  40900 225200  98900 220800 406700 500001\n"
          ],
          "name": "stdout"
        }
      ]
    },
    {
      "cell_type": "code",
      "metadata": {
        "id": "RZvlJpjAPQYA",
        "colab": {
          "base_uri": "https://localhost:8080/"
        },
        "outputId": "2dfe9cc2-8cef-4d70-c170-9e0dc985c7a6"
      },
      "source": [
        "%%R\n",
        "print(\"Metrics\")\n",
        "y_p1 = predict(fit, test.data[-9])\n",
        "\n",
        "res1 <-postResample(pred = y_p1, obs = test.data$median_house_value)\n",
        "print(res1)"
      ],
      "execution_count": 14,
      "outputs": [
        {
          "output_type": "stream",
          "text": [
            "[1] \"Metrics\"\n",
            "        RMSE     Rsquared          MAE \n",
            "7.635315e+04 5.702031e-01 5.635402e+04 \n"
          ],
          "name": "stdout"
        }
      ]
    },
    {
      "cell_type": "markdown",
      "metadata": {
        "id": "vDL1dQHFO4qi"
      },
      "source": [
        "### Random Forest Classifier"
      ]
    },
    {
      "cell_type": "code",
      "metadata": {
        "id": "Fn1xBmb9-VId",
        "colab": {
          "base_uri": "https://localhost:8080/"
        },
        "outputId": "663b0815-baeb-4de8-cc20-e7dc64fbba80"
      },
      "source": [
        "%%R\n",
        "#To perform Random Forest Operation\n",
        "classifier= randomForest(x=train.data[-9],y=train.data$median_house_value,ntree = 10)\n",
        "\n",
        "y_pred=predict(classifier, newdata = test.data[-9])\n",
        "print(\"Predictions of the random forest for the five first houses :\")\n",
        "print(head(y_pred))\n",
        "print(\"Actual price\")\n",
        "print(head(test.data$median_house_value))"
      ],
      "execution_count": 16,
      "outputs": [
        {
          "output_type": "stream",
          "text": [
            "[1] \"Predictions of the random forest for the five first houses :\"\n",
            "        1         2         3         4         5         6 \n",
            " 81494.67 232497.67 137275.00 185572.67 381443.00 326085.67 \n",
            "[1] \"Actual price\"\n",
            "[1]  40900 225200  98900 220800 406700 500001\n"
          ],
          "name": "stdout"
        }
      ]
    },
    {
      "cell_type": "code",
      "metadata": {
        "id": "YV3Xy0EKKt_F",
        "colab": {
          "base_uri": "https://localhost:8080/"
        },
        "outputId": "af7bde5e-5d5a-495f-ed57-4c086f86e8ff"
      },
      "source": [
        "%%R\n",
        "print(\"Metrics\")\n",
        "res <-postResample(pred = y_pred, obs = test.data$median_house_value)\n",
        "print(res)"
      ],
      "execution_count": 17,
      "outputs": [
        {
          "output_type": "stream",
          "text": [
            "[1] \"Metrics\"\n",
            "        RMSE     Rsquared          MAE \n",
            "5.627807e+04 7.691708e-01 3.855126e+04 \n"
          ],
          "name": "stdout"
        }
      ]
    },
    {
      "cell_type": "code",
      "metadata": {
        "id": "mkkMJygZifjO"
      },
      "source": [
        "%%R\n",
        "save(classifier, file=\"model.Rdata\")"
      ],
      "execution_count": 18,
      "outputs": []
    },
    {
      "cell_type": "markdown",
      "metadata": {
        "id": "m_GUbwegQmK0"
      },
      "source": [
        "## Visualization interface with Shiny"
      ]
    },
    {
      "cell_type": "code",
      "metadata": {
        "id": "JMwv5spEQou2",
        "colab": {
          "base_uri": "https://localhost:8080/"
        },
        "outputId": "f21880d0-c15d-4e24-94be-c0de5e9ccd25"
      },
      "source": [
        "%%R\n",
        "\n",
        "# Define UI for app that draws a histogram ----\n",
        "ui <- fluidPage(\n",
        "\n",
        "  # App title ----\n",
        "  titlePanel(\"Housing Price Prediction\"),\n",
        "\n",
        "  # Sidebar layout with input and output definitions ----\n",
        "  sidebarLayout(\n",
        "\n",
        "    # Sidebar panel for inputs ----\n",
        "    sidebarPanel(\n",
        "\n",
        "      # Input: Sliders for (longitude + latitude + housing_median_age + total_rooms +\n",
        "             # total_bedrooms + population + households + median_income)\n",
        "      sliderInput(inputId = \"longitude\",\n",
        "                  label = \"Longitude\",\n",
        "                  min = -124,\n",
        "                  max = -113,\n",
        "                  value = -120),\n",
        "    sliderInput(inputId = \"latitude\",\n",
        "                  label = \"Latitude\",\n",
        "                  min = 33,\n",
        "                  max = 41,\n",
        "                  value = 37),\n",
        "    sliderInput(inputId = \"housing_median_age\",\n",
        "                  label = \"Housing median age\",\n",
        "                  min = 1,\n",
        "                  max = 52,\n",
        "                  value = 25),\n",
        "    sliderInput(inputId = \"total_rooms\",\n",
        "                  label = \"Total rooms\",\n",
        "                  min = 2,\n",
        "                  max = 50000,\n",
        "                  value = 500),\n",
        "    sliderInput(inputId = \"total_bedrooms\",\n",
        "                  label = \"Total bedrooms\",\n",
        "                  min = 1,\n",
        "                  max = 6445,\n",
        "                  value = 100),\n",
        "    sliderInput(inputId = \"population\",\n",
        "                  label = \"Population\",\n",
        "                  min = 3,\n",
        "                  max = 35682,\n",
        "                  value = 150),\n",
        "    sliderInput(inputId = \"households\",\n",
        "                  label = \"Households\",\n",
        "                  min = 1,\n",
        "                  max = 6082,\n",
        "                  value = 100),\n",
        "    sliderInput(inputId = \"median_income\",\n",
        "                  label = \"Median income\",\n",
        "                  min = 1,\n",
        "                  max = 15,\n",
        "                  value = 5)),\n",
        "    \n",
        "\n",
        "    mainPanel(\n",
        "      tableOutput(\"predict\")\n",
        "\n",
        "    )\n",
        "  )\n",
        ")\n",
        "\n",
        "\n",
        "y_rrr = predict(classifier, newdata=list(-125, 35, 5, 5, 5, 5, 5, 5))\n",
        "print(y_rrr)\n",
        "\n",
        "# Define server logic required ----\n",
        "server <- function(input, output) {\n",
        "  \n",
        "  # 1. It is \"reactive\" and therefore should be automatically\n",
        "  #    re-executed when inputs (input$longitude, etc.) change\n",
        "  # 2. Its output type is a Table\n",
        "  predictions <- reactive({\n",
        "    preprocessInput = data.frame(\n",
        "      longitude = as.integer(input$longitude),\n",
        "      latitude = as.integer(input$latitude),\n",
        "      housing_median_age = as.integer(input$housing_median_age),\n",
        "      total_rooms = as.integer(input$total_rooms),\n",
        "      total_bedrooms = as.integer(input$total_bedrooms),\n",
        "      population = as.integer(input$population),\n",
        "      households = as.integer(input$households),\n",
        "      median_income = as.integer(input$median_income)\n",
        "      )\n",
        "    \n",
        "    prediction <- predict(classifier, preprocessInput)\n",
        "    \n",
        "    data.frame(\n",
        "      Prediction = as.character(c(paste(round(prediction, digits=2), \" $\")))\n",
        "    )\n",
        "  })\n",
        "  output$predict <- renderTable({\n",
        "    predictions()\n",
        "  })\n",
        "}\n",
        "\n",
        "myapp = shinyApp(ui = ui, server = server)"
      ],
      "execution_count": 19,
      "outputs": [
        {
          "output_type": "stream",
          "text": [
            "       1 \n",
            "326529.4 \n"
          ],
          "name": "stdout"
        }
      ]
    },
    {
      "cell_type": "code",
      "metadata": {
        "id": "SiYtwYbVWF8b",
        "colab": {
          "base_uri": "https://localhost:8080/"
        },
        "outputId": "5f57fef5-2365-4065-9b8f-22f17004b027"
      },
      "source": [
        "!pip install pyngrok --quiet\n",
        "from pyngrok import ngrok"
      ],
      "execution_count": 20,
      "outputs": [
        {
          "output_type": "stream",
          "text": [
            "\u001b[?25l\r\u001b[K     |▍                               | 10kB 20.5MB/s eta 0:00:01\r\u001b[K     |▉                               | 20kB 26.7MB/s eta 0:00:01\r\u001b[K     |█▎                              | 30kB 29.8MB/s eta 0:00:01\r\u001b[K     |█▊                              | 40kB 31.3MB/s eta 0:00:01\r\u001b[K     |██▏                             | 51kB 27.9MB/s eta 0:00:01\r\u001b[K     |██▋                             | 61kB 29.5MB/s eta 0:00:01\r\u001b[K     |███                             | 71kB 27.5MB/s eta 0:00:01\r\u001b[K     |███▌                            | 81kB 26.9MB/s eta 0:00:01\r\u001b[K     |████                            | 92kB 26.8MB/s eta 0:00:01\r\u001b[K     |████▍                           | 102kB 28.1MB/s eta 0:00:01\r\u001b[K     |████▉                           | 112kB 28.1MB/s eta 0:00:01\r\u001b[K     |█████▎                          | 122kB 28.1MB/s eta 0:00:01\r\u001b[K     |█████▊                          | 133kB 28.1MB/s eta 0:00:01\r\u001b[K     |██████▏                         | 143kB 28.1MB/s eta 0:00:01\r\u001b[K     |██████▋                         | 153kB 28.1MB/s eta 0:00:01\r\u001b[K     |███████                         | 163kB 28.1MB/s eta 0:00:01\r\u001b[K     |███████▌                        | 174kB 28.1MB/s eta 0:00:01\r\u001b[K     |████████                        | 184kB 28.1MB/s eta 0:00:01\r\u001b[K     |████████▍                       | 194kB 28.1MB/s eta 0:00:01\r\u001b[K     |████████▉                       | 204kB 28.1MB/s eta 0:00:01\r\u001b[K     |█████████▎                      | 215kB 28.1MB/s eta 0:00:01\r\u001b[K     |█████████▊                      | 225kB 28.1MB/s eta 0:00:01\r\u001b[K     |██████████▏                     | 235kB 28.1MB/s eta 0:00:01\r\u001b[K     |██████████▌                     | 245kB 28.1MB/s eta 0:00:01\r\u001b[K     |███████████                     | 256kB 28.1MB/s eta 0:00:01\r\u001b[K     |███████████▍                    | 266kB 28.1MB/s eta 0:00:01\r\u001b[K     |███████████▉                    | 276kB 28.1MB/s eta 0:00:01\r\u001b[K     |████████████▎                   | 286kB 28.1MB/s eta 0:00:01\r\u001b[K     |████████████▊                   | 296kB 28.1MB/s eta 0:00:01\r\u001b[K     |█████████████▏                  | 307kB 28.1MB/s eta 0:00:01\r\u001b[K     |█████████████▋                  | 317kB 28.1MB/s eta 0:00:01\r\u001b[K     |██████████████                  | 327kB 28.1MB/s eta 0:00:01\r\u001b[K     |██████████████▌                 | 337kB 28.1MB/s eta 0:00:01\r\u001b[K     |███████████████                 | 348kB 28.1MB/s eta 0:00:01\r\u001b[K     |███████████████▍                | 358kB 28.1MB/s eta 0:00:01\r\u001b[K     |███████████████▉                | 368kB 28.1MB/s eta 0:00:01\r\u001b[K     |████████████████▎               | 378kB 28.1MB/s eta 0:00:01\r\u001b[K     |████████████████▊               | 389kB 28.1MB/s eta 0:00:01\r\u001b[K     |█████████████████▏              | 399kB 28.1MB/s eta 0:00:01\r\u001b[K     |█████████████████▋              | 409kB 28.1MB/s eta 0:00:01\r\u001b[K     |██████████████████              | 419kB 28.1MB/s eta 0:00:01\r\u001b[K     |██████████████████▌             | 430kB 28.1MB/s eta 0:00:01\r\u001b[K     |███████████████████             | 440kB 28.1MB/s eta 0:00:01\r\u001b[K     |███████████████████▍            | 450kB 28.1MB/s eta 0:00:01\r\u001b[K     |███████████████████▉            | 460kB 28.1MB/s eta 0:00:01\r\u001b[K     |████████████████████▎           | 471kB 28.1MB/s eta 0:00:01\r\u001b[K     |████████████████████▊           | 481kB 28.1MB/s eta 0:00:01\r\u001b[K     |█████████████████████           | 491kB 28.1MB/s eta 0:00:01\r\u001b[K     |█████████████████████▌          | 501kB 28.1MB/s eta 0:00:01\r\u001b[K     |██████████████████████          | 512kB 28.1MB/s eta 0:00:01\r\u001b[K     |██████████████████████▍         | 522kB 28.1MB/s eta 0:00:01\r\u001b[K     |██████████████████████▉         | 532kB 28.1MB/s eta 0:00:01\r\u001b[K     |███████████████████████▎        | 542kB 28.1MB/s eta 0:00:01\r\u001b[K     |███████████████████████▊        | 552kB 28.1MB/s eta 0:00:01\r\u001b[K     |████████████████████████▏       | 563kB 28.1MB/s eta 0:00:01\r\u001b[K     |████████████████████████▋       | 573kB 28.1MB/s eta 0:00:01\r\u001b[K     |█████████████████████████       | 583kB 28.1MB/s eta 0:00:01\r\u001b[K     |█████████████████████████▌      | 593kB 28.1MB/s eta 0:00:01\r\u001b[K     |██████████████████████████      | 604kB 28.1MB/s eta 0:00:01\r\u001b[K     |██████████████████████████▍     | 614kB 28.1MB/s eta 0:00:01\r\u001b[K     |██████████████████████████▉     | 624kB 28.1MB/s eta 0:00:01\r\u001b[K     |███████████████████████████▎    | 634kB 28.1MB/s eta 0:00:01\r\u001b[K     |███████████████████████████▊    | 645kB 28.1MB/s eta 0:00:01\r\u001b[K     |████████████████████████████▏   | 655kB 28.1MB/s eta 0:00:01\r\u001b[K     |████████████████████████████▋   | 665kB 28.1MB/s eta 0:00:01\r\u001b[K     |█████████████████████████████   | 675kB 28.1MB/s eta 0:00:01\r\u001b[K     |█████████████████████████████▌  | 686kB 28.1MB/s eta 0:00:01\r\u001b[K     |██████████████████████████████  | 696kB 28.1MB/s eta 0:00:01\r\u001b[K     |██████████████████████████████▍ | 706kB 28.1MB/s eta 0:00:01\r\u001b[K     |██████████████████████████████▉ | 716kB 28.1MB/s eta 0:00:01\r\u001b[K     |███████████████████████████████▏| 727kB 28.1MB/s eta 0:00:01\r\u001b[K     |███████████████████████████████▋| 737kB 28.1MB/s eta 0:00:01\r\u001b[K     |████████████████████████████████| 747kB 28.1MB/s \n",
            "\u001b[?25h  Building wheel for pyngrok (setup.py) ... \u001b[?25l\u001b[?25hdone\n"
          ],
          "name": "stdout"
        }
      ]
    },
    {
      "cell_type": "code",
      "metadata": {
        "id": "CRcgngHMeKat"
      },
      "source": [
        "%%R\n",
        "\n",
        "options(shiny.port = 80)"
      ],
      "execution_count": 21,
      "outputs": []
    },
    {
      "cell_type": "code",
      "metadata": {
        "id": "fu18wN6yfH9K"
      },
      "source": [
        "#ngrok.kill()"
      ],
      "execution_count": null,
      "outputs": []
    },
    {
      "cell_type": "code",
      "metadata": {
        "id": "Wm9fKU__WKW4",
        "colab": {
          "base_uri": "https://localhost:8080/"
        },
        "outputId": "c137fea4-810a-4b53-a5cf-38890314f29f"
      },
      "source": [
        "# Open an HTTPs tunnel on port 7312 for http://localhost:5000/\n",
        "public_url = ngrok.connect(port=\"80\", proto=\"http\", options={\"bind_tls\": True})\n",
        "print(\"Tracking URL:\", public_url)"
      ],
      "execution_count": 22,
      "outputs": [
        {
          "output_type": "stream",
          "text": [
            "Tracking URL: NgrokTunnel: \"http://221da8de967c.ngrok.io\" -> \"http://localhost:80\"\n"
          ],
          "name": "stdout"
        }
      ]
    },
    {
      "cell_type": "code",
      "metadata": {
        "colab": {
          "base_uri": "https://localhost:8080/"
        },
        "id": "JX4eCDuURZCN",
        "outputId": "f80d5d53-878c-4b5f-a443-cb6ac32ac8ed"
      },
      "source": [
        "%%R\n",
        "\n",
        "runApp(myapp)"
      ],
      "execution_count": null,
      "outputs": [
        {
          "output_type": "stream",
          "text": [
            "R[write to console]: \n",
            "Listening on http://127.0.0.1:80\n",
            "\n",
            "From cffi callback <function _processevents at 0x7f9e63dcb200>:\n",
            "Traceback (most recent call last):\n",
            "  File \"/usr/local/lib/python3.7/dist-packages/rpy2/rinterface_lib/callbacks.py\", line 274, in _processevents\n",
            "    @ffi_proxy.callback(ffi_proxy._processevents_def,\n",
            "KeyboardInterrupt\n",
            "From cffi callback <function _processevents at 0x7f9e63dcb200>:\n",
            "Traceback (most recent call last):\n",
            "  File \"/usr/local/lib/python3.7/dist-packages/rpy2/rinterface_lib/callbacks.py\", line 274, in _processevents\n",
            "    @ffi_proxy.callback(ffi_proxy._processevents_def,\n",
            "KeyboardInterrupt\n",
            "From cffi callback <function _processevents at 0x7f9e63dcb200>:\n",
            "Traceback (most recent call last):\n",
            "  File \"/usr/local/lib/python3.7/dist-packages/rpy2/rinterface_lib/callbacks.py\", line 274, in _processevents\n",
            "    @ffi_proxy.callback(ffi_proxy._processevents_def,\n",
            "KeyboardInterrupt\n"
          ],
          "name": "stderr"
        }
      ]
    }
  ]
}